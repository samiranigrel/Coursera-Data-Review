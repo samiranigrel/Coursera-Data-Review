{
 "cells": [
  {
   "cell_type": "code",
   "execution_count": 1,
   "metadata": {},
   "outputs": [],
   "source": [
    "import numpy as np \n",
    "import pandas as pd\n",
    "import matplotlib.pyplot as plt\n",
    "%matplotlib inline\n",
    "import seaborn as sns"
   ]
  },
  {
   "cell_type": "code",
   "execution_count": 2,
   "metadata": {},
   "outputs": [],
   "source": [
    "path=\"datasets_coursea_data.csv\""
   ]
  },
  {
   "cell_type": "code",
   "execution_count": 3,
   "metadata": {},
   "outputs": [
    {
     "name": "stdout",
     "output_type": "stream",
     "text": [
      "(891, 7)\n"
     ]
    },
    {
     "data": {
      "text/html": [
       "<div>\n",
       "<style scoped>\n",
       "    .dataframe tbody tr th:only-of-type {\n",
       "        vertical-align: middle;\n",
       "    }\n",
       "\n",
       "    .dataframe tbody tr th {\n",
       "        vertical-align: top;\n",
       "    }\n",
       "\n",
       "    .dataframe thead th {\n",
       "        text-align: right;\n",
       "    }\n",
       "</style>\n",
       "<table border=\"1\" class=\"dataframe\">\n",
       "  <thead>\n",
       "    <tr style=\"text-align: right;\">\n",
       "      <th></th>\n",
       "      <th>Unnamed: 0</th>\n",
       "      <th>course_title</th>\n",
       "      <th>course_organization</th>\n",
       "      <th>course_Certificate_type</th>\n",
       "      <th>course_rating</th>\n",
       "      <th>course_difficulty</th>\n",
       "      <th>course_students_enrolled</th>\n",
       "    </tr>\n",
       "  </thead>\n",
       "  <tbody>\n",
       "    <tr>\n",
       "      <th>0</th>\n",
       "      <td>134</td>\n",
       "      <td>(ISC)² Systems Security Certified Practitioner...</td>\n",
       "      <td>(ISC)²</td>\n",
       "      <td>SPECIALIZATION</td>\n",
       "      <td>4.7</td>\n",
       "      <td>Beginner</td>\n",
       "      <td>5.3k</td>\n",
       "    </tr>\n",
       "    <tr>\n",
       "      <th>1</th>\n",
       "      <td>743</td>\n",
       "      <td>A Crash Course in Causality:  Inferring Causal...</td>\n",
       "      <td>University of Pennsylvania</td>\n",
       "      <td>COURSE</td>\n",
       "      <td>4.7</td>\n",
       "      <td>Intermediate</td>\n",
       "      <td>17k</td>\n",
       "    </tr>\n",
       "    <tr>\n",
       "      <th>2</th>\n",
       "      <td>874</td>\n",
       "      <td>A Crash Course in Data Science</td>\n",
       "      <td>Johns Hopkins University</td>\n",
       "      <td>COURSE</td>\n",
       "      <td>4.5</td>\n",
       "      <td>Mixed</td>\n",
       "      <td>130k</td>\n",
       "    </tr>\n",
       "    <tr>\n",
       "      <th>3</th>\n",
       "      <td>413</td>\n",
       "      <td>A Law Student's Toolkit</td>\n",
       "      <td>Yale University</td>\n",
       "      <td>COURSE</td>\n",
       "      <td>4.7</td>\n",
       "      <td>Mixed</td>\n",
       "      <td>91k</td>\n",
       "    </tr>\n",
       "    <tr>\n",
       "      <th>4</th>\n",
       "      <td>635</td>\n",
       "      <td>A Life of Happiness and Fulfillment</td>\n",
       "      <td>Indian School of Business</td>\n",
       "      <td>COURSE</td>\n",
       "      <td>4.8</td>\n",
       "      <td>Mixed</td>\n",
       "      <td>320k</td>\n",
       "    </tr>\n",
       "  </tbody>\n",
       "</table>\n",
       "</div>"
      ],
      "text/plain": [
       "   Unnamed: 0                                       course_title  \\\n",
       "0         134  (ISC)² Systems Security Certified Practitioner...   \n",
       "1         743  A Crash Course in Causality:  Inferring Causal...   \n",
       "2         874                     A Crash Course in Data Science   \n",
       "3         413                            A Law Student's Toolkit   \n",
       "4         635                A Life of Happiness and Fulfillment   \n",
       "\n",
       "          course_organization course_Certificate_type  course_rating  \\\n",
       "0                      (ISC)²          SPECIALIZATION            4.7   \n",
       "1  University of Pennsylvania                  COURSE            4.7   \n",
       "2    Johns Hopkins University                  COURSE            4.5   \n",
       "3             Yale University                  COURSE            4.7   \n",
       "4   Indian School of Business                  COURSE            4.8   \n",
       "\n",
       "  course_difficulty course_students_enrolled  \n",
       "0          Beginner                     5.3k  \n",
       "1      Intermediate                      17k  \n",
       "2             Mixed                     130k  \n",
       "3             Mixed                      91k  \n",
       "4             Mixed                     320k  "
      ]
     },
     "execution_count": 3,
     "metadata": {},
     "output_type": "execute_result"
    }
   ],
   "source": [
    "data = pd.read_csv(path)\n",
    "print(data.shape)\n",
    "data.head()"
   ]
  },
  {
   "cell_type": "markdown",
   "metadata": {},
   "source": [
    "### Data Preprocessing"
   ]
  },
  {
   "cell_type": "code",
   "execution_count": 4,
   "metadata": {},
   "outputs": [
    {
     "data": {
      "text/html": [
       "<div>\n",
       "<style scoped>\n",
       "    .dataframe tbody tr th:only-of-type {\n",
       "        vertical-align: middle;\n",
       "    }\n",
       "\n",
       "    .dataframe tbody tr th {\n",
       "        vertical-align: top;\n",
       "    }\n",
       "\n",
       "    .dataframe thead th {\n",
       "        text-align: right;\n",
       "    }\n",
       "</style>\n",
       "<table border=\"1\" class=\"dataframe\">\n",
       "  <thead>\n",
       "    <tr style=\"text-align: right;\">\n",
       "      <th></th>\n",
       "      <th>course_title</th>\n",
       "      <th>course_organization</th>\n",
       "      <th>course_Certificate_type</th>\n",
       "      <th>course_rating</th>\n",
       "      <th>course_difficulty</th>\n",
       "      <th>course_students_enrolled</th>\n",
       "    </tr>\n",
       "  </thead>\n",
       "  <tbody>\n",
       "    <tr>\n",
       "      <th>0</th>\n",
       "      <td>(ISC)² Systems Security Certified Practitioner...</td>\n",
       "      <td>(ISC)²</td>\n",
       "      <td>SPECIALIZATION</td>\n",
       "      <td>4.7</td>\n",
       "      <td>Beginner</td>\n",
       "      <td>5.3k</td>\n",
       "    </tr>\n",
       "    <tr>\n",
       "      <th>1</th>\n",
       "      <td>A Crash Course in Causality:  Inferring Causal...</td>\n",
       "      <td>University of Pennsylvania</td>\n",
       "      <td>COURSE</td>\n",
       "      <td>4.7</td>\n",
       "      <td>Intermediate</td>\n",
       "      <td>17k</td>\n",
       "    </tr>\n",
       "    <tr>\n",
       "      <th>2</th>\n",
       "      <td>A Crash Course in Data Science</td>\n",
       "      <td>Johns Hopkins University</td>\n",
       "      <td>COURSE</td>\n",
       "      <td>4.5</td>\n",
       "      <td>Mixed</td>\n",
       "      <td>130k</td>\n",
       "    </tr>\n",
       "    <tr>\n",
       "      <th>3</th>\n",
       "      <td>A Law Student's Toolkit</td>\n",
       "      <td>Yale University</td>\n",
       "      <td>COURSE</td>\n",
       "      <td>4.7</td>\n",
       "      <td>Mixed</td>\n",
       "      <td>91k</td>\n",
       "    </tr>\n",
       "    <tr>\n",
       "      <th>4</th>\n",
       "      <td>A Life of Happiness and Fulfillment</td>\n",
       "      <td>Indian School of Business</td>\n",
       "      <td>COURSE</td>\n",
       "      <td>4.8</td>\n",
       "      <td>Mixed</td>\n",
       "      <td>320k</td>\n",
       "    </tr>\n",
       "  </tbody>\n",
       "</table>\n",
       "</div>"
      ],
      "text/plain": [
       "                                        course_title  \\\n",
       "0  (ISC)² Systems Security Certified Practitioner...   \n",
       "1  A Crash Course in Causality:  Inferring Causal...   \n",
       "2                     A Crash Course in Data Science   \n",
       "3                            A Law Student's Toolkit   \n",
       "4                A Life of Happiness and Fulfillment   \n",
       "\n",
       "          course_organization course_Certificate_type  course_rating  \\\n",
       "0                      (ISC)²          SPECIALIZATION            4.7   \n",
       "1  University of Pennsylvania                  COURSE            4.7   \n",
       "2    Johns Hopkins University                  COURSE            4.5   \n",
       "3             Yale University                  COURSE            4.7   \n",
       "4   Indian School of Business                  COURSE            4.8   \n",
       "\n",
       "  course_difficulty course_students_enrolled  \n",
       "0          Beginner                     5.3k  \n",
       "1      Intermediate                      17k  \n",
       "2             Mixed                     130k  \n",
       "3             Mixed                      91k  \n",
       "4             Mixed                     320k  "
      ]
     },
     "execution_count": 4,
     "metadata": {},
     "output_type": "execute_result"
    }
   ],
   "source": [
    "# replacing Unnamed: 0 column with Id\n",
    "# data['Id'] = data['Unnamed: 0']\n",
    "data.drop(['Unnamed: 0'], axis=1, inplace=True)\n",
    "data.head()"
   ]
  },
  {
   "cell_type": "code",
   "execution_count": 5,
   "metadata": {},
   "outputs": [
    {
     "name": "stdout",
     "output_type": "stream",
     "text": [
      "<class 'pandas.core.frame.DataFrame'>\n",
      "RangeIndex: 891 entries, 0 to 890\n",
      "Data columns (total 6 columns):\n",
      " #   Column                    Non-Null Count  Dtype  \n",
      "---  ------                    --------------  -----  \n",
      " 0   course_title              891 non-null    object \n",
      " 1   course_organization       891 non-null    object \n",
      " 2   course_Certificate_type   891 non-null    object \n",
      " 3   course_rating             891 non-null    float64\n",
      " 4   course_difficulty         891 non-null    object \n",
      " 5   course_students_enrolled  891 non-null    object \n",
      "dtypes: float64(1), object(5)\n",
      "memory usage: 41.9+ KB\n"
     ]
    }
   ],
   "source": [
    "data.info()"
   ]
  },
  {
   "cell_type": "markdown",
   "metadata": {},
   "source": [
    "### Data Pre-processing\n",
    "As we can see that the column course_students_enrolled is of the type object. That is due to the \"k\" or \"m\" after the number. We need to deal with that before starting any analysis."
   ]
  },
  {
   "cell_type": "code",
   "execution_count": 6,
   "metadata": {},
   "outputs": [],
   "source": [
    "std_enroll = []\n",
    "for i in range(0, len(data)):\n",
    "    try:\n",
    "        num = data['course_students_enrolled'].str.split('k')[i][0]\n",
    "        num = float(num) * 1000 \n",
    "        std_enroll.append(num)\n",
    "    except:\n",
    "        num = data['course_students_enrolled'].str.split('m')[i][0]\n",
    "        num = float(num) * 1000000\n",
    "        std_enroll.append(num)\n",
    "data['course_students_enrolled'] = std_enroll\n",
    "data['course_students_enrolled'] = data['course_students_enrolled'].astype(float)"
   ]
  },
  {
   "cell_type": "code",
   "execution_count": 7,
   "metadata": {},
   "outputs": [
    {
     "data": {
      "text/html": [
       "<div>\n",
       "<style scoped>\n",
       "    .dataframe tbody tr th:only-of-type {\n",
       "        vertical-align: middle;\n",
       "    }\n",
       "\n",
       "    .dataframe tbody tr th {\n",
       "        vertical-align: top;\n",
       "    }\n",
       "\n",
       "    .dataframe thead th {\n",
       "        text-align: right;\n",
       "    }\n",
       "</style>\n",
       "<table border=\"1\" class=\"dataframe\">\n",
       "  <thead>\n",
       "    <tr style=\"text-align: right;\">\n",
       "      <th></th>\n",
       "      <th>course_rating</th>\n",
       "      <th>course_students_enrolled</th>\n",
       "    </tr>\n",
       "  </thead>\n",
       "  <tbody>\n",
       "    <tr>\n",
       "      <th>count</th>\n",
       "      <td>891.000000</td>\n",
       "      <td>8.910000e+02</td>\n",
       "    </tr>\n",
       "    <tr>\n",
       "      <th>mean</th>\n",
       "      <td>4.677329</td>\n",
       "      <td>9.055208e+04</td>\n",
       "    </tr>\n",
       "    <tr>\n",
       "      <th>std</th>\n",
       "      <td>0.162225</td>\n",
       "      <td>1.819365e+05</td>\n",
       "    </tr>\n",
       "    <tr>\n",
       "      <th>min</th>\n",
       "      <td>3.300000</td>\n",
       "      <td>1.500000e+03</td>\n",
       "    </tr>\n",
       "    <tr>\n",
       "      <th>25%</th>\n",
       "      <td>4.600000</td>\n",
       "      <td>1.750000e+04</td>\n",
       "    </tr>\n",
       "    <tr>\n",
       "      <th>50%</th>\n",
       "      <td>4.700000</td>\n",
       "      <td>4.200000e+04</td>\n",
       "    </tr>\n",
       "    <tr>\n",
       "      <th>75%</th>\n",
       "      <td>4.800000</td>\n",
       "      <td>9.950000e+04</td>\n",
       "    </tr>\n",
       "    <tr>\n",
       "      <th>max</th>\n",
       "      <td>5.000000</td>\n",
       "      <td>3.200000e+06</td>\n",
       "    </tr>\n",
       "  </tbody>\n",
       "</table>\n",
       "</div>"
      ],
      "text/plain": [
       "       course_rating  course_students_enrolled\n",
       "count     891.000000              8.910000e+02\n",
       "mean        4.677329              9.055208e+04\n",
       "std         0.162225              1.819365e+05\n",
       "min         3.300000              1.500000e+03\n",
       "25%         4.600000              1.750000e+04\n",
       "50%         4.700000              4.200000e+04\n",
       "75%         4.800000              9.950000e+04\n",
       "max         5.000000              3.200000e+06"
      ]
     },
     "execution_count": 7,
     "metadata": {},
     "output_type": "execute_result"
    }
   ],
   "source": [
    "data.describe()"
   ]
  },
  {
   "cell_type": "markdown",
   "metadata": {},
   "source": [
    "### 1. Which organization has the most number of courses?\n",
    "Here, we want to check two things. First, which organization has the most number of courses on Coursera.\n",
    "Next, which all organizations have more than 10 courses on coursera. This is just a basic analysis which could show the organizations which dominate on Coursera."
   ]
  },
  {
   "cell_type": "code",
   "execution_count": 8,
   "metadata": {},
   "outputs": [
    {
     "data": {
      "image/png": "[encoded data removed]",
      "text/plain": [
       "<Figure size 432x288 with 1 Axes>"
      ]
     },
     "metadata": {
      "needs_background": "light"
     },
     "output_type": "display_data"
    }
   ],
   "source": [
    "#Top 10 organizations\n",
    "data['course_organization'].value_counts()[:10].plot(kind='barh',title='organiztions with most number of courses')\n",
    "plt.xlabel('no of courses')\n",
    "plt.ylabel('Course Organizations')\n",
    "plt.show()"
   ]
  },
  {
   "cell_type": "code",
   "execution_count": 9,
   "metadata": {},
   "outputs": [
    {
     "name": "stdout",
     "output_type": "stream",
     "text": [
      "<class 'pandas.core.series.Series'>\n"
     ]
    },
    {
     "data": {
      "image/png": "[encoded data removed]",
      "text/plain": [
       "<Figure size 432x288 with 1 Axes>"
      ]
     },
     "metadata": {
      "needs_background": "light"
     },
     "output_type": "display_data"
    }
   ],
   "source": [
    "#organizations with more than 10 courses\n",
    "a=data['course_organization'].value_counts()\n",
    "print(type(a))\n",
    "a=a[a>10]\n",
    "a.plot(kind='barh',title='organiztions with most number of courses')\n",
    "plt.xlabel('no of courses')\n",
    "plt.ylabel('Course Organizations')\n",
    "plt.show()"
   ]
  },
  {
   "cell_type": "markdown",
   "metadata": {},
   "source": [
    "### 2.  Average course rating of the organizations with more than 10 courses\n",
    "Here, we want to see whether these organizations produce quality courses or is it just quantity over quality?"
   ]
  },
  {
   "cell_type": "code",
   "execution_count": 10,
   "metadata": {},
   "outputs": [
    {
     "data": {
      "text/plain": [
       "{'(ISC)²': 4.733333333333333,\n",
       " 'Amazon Web Services': 4.55,\n",
       " 'American Institute of Business and Economics': 4.4,\n",
       " 'American Museum of Natural History': 4.75,\n",
       " 'Arizona State University': 4.771428571428571,\n",
       " 'Atlassian': 4.75,\n",
       " 'Autodesk': 4.75,\n",
       " 'Automation Anywhere': 4.6,\n",
       " 'BCG': 4.8,\n",
       " 'Berklee College of Music': 4.807142857142856,\n",
       " 'Birkbeck, University of London': 4.6,\n",
       " 'Bloomsbury Learning Exchange': 4.7,\n",
       " 'California Institute of the Arts': 4.716666666666667,\n",
       " 'Case Western Reserve University': 4.733333333333333,\n",
       " 'Cisco': 4.7,\n",
       " 'Cloudera': 4.8,\n",
       " 'Columbia University': 4.757142857142857,\n",
       " 'ConsenSys Academy': 4.7,\n",
       " 'Copenhagen Business School': 4.68,\n",
       " 'Crece con Google': 4.9,\n",
       " 'Duke University': 4.664285714285714,\n",
       " 'E-Learning Development Fund': 4.733333333333333,\n",
       " 'EDHEC Business School': 4.666666666666666,\n",
       " 'ESADE Business and Law School': 4.8,\n",
       " 'ESCP Business School': 4.6,\n",
       " 'ESSEC Business School': 4.6,\n",
       " 'Eindhoven University of Technology': 4.8,\n",
       " 'Emory University': 4.499999999999999,\n",
       " 'Erasmus University Rotterdam': 4.659999999999999,\n",
       " 'Fundação Instituto de Administração': 4.5,\n",
       " 'Georgia Institute of Technology': 4.66,\n",
       " 'Goldsmiths, University of London': 4.45,\n",
       " 'Google': 4.733333333333334,\n",
       " 'Google - Spectrum Sharing': 4.9,\n",
       " 'Google Cloud': 4.582352941176469,\n",
       " 'HEC Paris': 4.683333333333334,\n",
       " 'Hebrew University of Jerusalem': 4.9,\n",
       " 'HubSpot Academy': 4.7,\n",
       " 'IBM': 4.613636363636363,\n",
       " 'IE Business School': 4.599999999999999,\n",
       " 'IE School of Architecture & Design': 4.7,\n",
       " 'IESE Business School': 4.74,\n",
       " 'INSEAD': 4.666666666666667,\n",
       " 'Icahn School of Medicine at Mount Sinai': 4.4,\n",
       " 'Imperial College London': 4.655555555555555,\n",
       " 'Indian School of Business': 4.525,\n",
       " 'Institute for the Future': 4.8,\n",
       " 'JetBrains': 4.7,\n",
       " 'Johns Hopkins University': 4.660714285714286,\n",
       " 'Kalshoven-Gieskes Forum': 4.8,\n",
       " 'LearnQuest': 4.533333333333333,\n",
       " 'London Business School': 4.9,\n",
       " 'Ludwig-Maximilians-Universität München (LMU)': 4.75,\n",
       " 'Lund University': 4.55,\n",
       " 'Luther College at the University of Regina': 4.4,\n",
       " 'Macquarie University': 4.8,\n",
       " 'Mail.Ru Group': 4.5,\n",
       " 'MathWorks': 4.7,\n",
       " 'McMaster University': 4.8,\n",
       " 'Michigan State University': 4.619999999999999,\n",
       " 'Moscow Institute of Physics and Technology': 4.65,\n",
       " 'Nanyang Technological University, Singapore': 4.9,\n",
       " 'National Arts Strategies': 4.6,\n",
       " 'National Research University Higher School of Economics': 4.5285714285714285,\n",
       " 'National Taiwan University': 4.6,\n",
       " 'New York Institute of Finance': 4.3,\n",
       " 'New York University': 4.499999999999999,\n",
       " 'Northwestern University': 4.65,\n",
       " 'Novosibirsk State University ': 4.4,\n",
       " 'Osmosis': 4.8,\n",
       " 'Palo Alto Networks': 4.6,\n",
       " 'Peking University': 4.8,\n",
       " 'Peter the Great St. Petersburg Polytechnic University': 4.4,\n",
       " 'Pontificia Universidad Católica de Chile': 4.728571428571429,\n",
       " 'PwC': 4.666666666666666,\n",
       " 'Relay Graduate School of Education': 4.8,\n",
       " 'Rice University': 4.676923076923078,\n",
       " 'Royal Holloway, University of London': 4.6,\n",
       " 'Rutgers the State University of New Jersey': 4.6499999999999995,\n",
       " 'SAS': 4.766666666666667,\n",
       " 'SOAS University of London': 4.575,\n",
       " 'Saint Petersburg State University': 4.671428571428571,\n",
       " 'Sciences Po': 4.533333333333332,\n",
       " 'ScrumTrek': 4.9,\n",
       " 'Shanghai Jiao Tong University': 4.8,\n",
       " 'Stanford University': 4.768750000000001,\n",
       " 'Technical University of Denmark (DTU)': 4.6,\n",
       " 'Tecnológico de Monterrey': 4.533333333333333,\n",
       " 'Tel Aviv University': 4.8,\n",
       " 'The George Washington University': 4.8,\n",
       " 'The Hong Kong University of Science and Technology': 4.642857142857143,\n",
       " 'The Linux Foundation': 4.4,\n",
       " 'The Museum of Modern Art': 4.783333333333332,\n",
       " 'The Pennsylvania State University': 4.8,\n",
       " 'The State University of New York': 4.275,\n",
       " 'The University of Chicago': 4.85,\n",
       " 'The University of Edinburgh': 4.675000000000001,\n",
       " 'The University of Hong Kong': 4.8,\n",
       " 'The University of Melbourne': 4.766666666666667,\n",
       " 'The University of North Carolina at Chapel Hill': 4.699999999999999,\n",
       " 'The University of Sydney': 4.75,\n",
       " 'The University of Tokyo': 4.8,\n",
       " 'Ticket for Change': 4.7,\n",
       " 'Tsinghua University': 4.3,\n",
       " 'UCL Institute of Education': 4.75,\n",
       " 'UCL School of Management': 4.8,\n",
       " 'UNSW Sydney (The University of New South Wales)': 4.733333333333333,\n",
       " 'Unity': 4.35,\n",
       " 'Universidad Austral': 4.6499999999999995,\n",
       " 'Universidad Nacional Autónoma de México': 4.75,\n",
       " 'Universidad de Chile': 4.766666666666667,\n",
       " 'Universidad de los Andes': 4.82,\n",
       " 'Universidade Estadual de Campinas': 4.9,\n",
       " 'Universidade de São Paulo': 4.866666666666667,\n",
       " 'Universitat Autònoma de Barcelona': 4.7124999999999995,\n",
       " 'Universitat de Barcelona': 4.6,\n",
       " 'Universiteit Leiden': 4.766666666666667,\n",
       " 'University System of Georgia': 4.533333333333334,\n",
       " 'University at Buffalo': 4.65,\n",
       " 'University of Alberta': 4.7272727272727275,\n",
       " 'University of Amsterdam': 4.733333333333333,\n",
       " 'University of California San Diego': 4.644444444444445,\n",
       " 'University of California, Davis': 4.6190476190476195,\n",
       " 'University of California, Irvine': 4.596296296296296,\n",
       " 'University of California, Santa Cruz': 4.725,\n",
       " 'University of Cape Town': 4.7,\n",
       " 'University of Colorado Boulder': 4.668421052631579,\n",
       " 'University of Colorado System': 4.715384615384615,\n",
       " 'University of Copenhagen': 4.699999999999999,\n",
       " 'University of Florida': 4.8,\n",
       " 'University of Geneva': 4.733333333333333,\n",
       " 'University of Illinois at Urbana-Champaign': 4.654545454545455,\n",
       " 'University of Lausanne': 4.8,\n",
       " 'University of London': 4.566666666666666,\n",
       " 'University of Maryland, College Park': 4.583333333333333,\n",
       " 'University of Michigan': 4.729268292682928,\n",
       " 'University of Minnesota': 4.609090909090909,\n",
       " 'University of New Mexico': 4.6,\n",
       " 'University of Pennsylvania': 4.696610169491525,\n",
       " 'University of Pittsburgh': 4.733333333333333,\n",
       " 'University of Toronto': 4.627272727272728,\n",
       " 'University of Virginia': 4.715789473684211,\n",
       " 'University of Washington': 4.660000000000001,\n",
       " 'Università Bocconi': 4.757142857142857,\n",
       " 'VMware': 4.8,\n",
       " 'Vanderbilt University': 4.666666666666667,\n",
       " 'Wesleyan University': 4.54,\n",
       " 'West Virginia University': 4.550000000000001,\n",
       " 'Yale University': 4.817647058823529,\n",
       " 'Yonsei University': 4.75,\n",
       " 'deeplearning.ai': 4.74375,\n",
       " 'École Polytechnique': 4.8,\n",
       " 'École Polytechnique Fédérale de Lausanne': 4.725,\n",
       " 'École des Ponts ParisTech': 4.7}"
      ]
     },
     "execution_count": 10,
     "metadata": {},
     "output_type": "execute_result"
    }
   ],
   "source": [
    "avg_course_rating = (data.groupby('course_organization')['course_rating'].mean()).to_dict()\n",
    "avg_course_rating"
   ]
  },
  {
   "cell_type": "code",
   "execution_count": 11,
   "metadata": {},
   "outputs": [
    {
     "data": {
      "text/html": [
       "<div>\n",
       "<style scoped>\n",
       "    .dataframe tbody tr th:only-of-type {\n",
       "        vertical-align: middle;\n",
       "    }\n",
       "\n",
       "    .dataframe tbody tr th {\n",
       "        vertical-align: top;\n",
       "    }\n",
       "\n",
       "    .dataframe thead th {\n",
       "        text-align: right;\n",
       "    }\n",
       "</style>\n",
       "<table border=\"1\" class=\"dataframe\">\n",
       "  <thead>\n",
       "    <tr style=\"text-align: right;\">\n",
       "      <th></th>\n",
       "      <th>course_organization</th>\n",
       "    </tr>\n",
       "  </thead>\n",
       "  <tbody>\n",
       "    <tr>\n",
       "      <th>University of Pennsylvania</th>\n",
       "      <td>59</td>\n",
       "    </tr>\n",
       "    <tr>\n",
       "      <th>University of Michigan</th>\n",
       "      <td>41</td>\n",
       "    </tr>\n",
       "    <tr>\n",
       "      <th>Google Cloud</th>\n",
       "      <td>34</td>\n",
       "    </tr>\n",
       "    <tr>\n",
       "      <th>Duke University</th>\n",
       "      <td>28</td>\n",
       "    </tr>\n",
       "    <tr>\n",
       "      <th>Johns Hopkins University</th>\n",
       "      <td>28</td>\n",
       "    </tr>\n",
       "    <tr>\n",
       "      <th>University of California, Irvine</th>\n",
       "      <td>27</td>\n",
       "    </tr>\n",
       "    <tr>\n",
       "      <th>University of Illinois at Urbana-Champaign</th>\n",
       "      <td>22</td>\n",
       "    </tr>\n",
       "    <tr>\n",
       "      <th>IBM</th>\n",
       "      <td>22</td>\n",
       "    </tr>\n",
       "    <tr>\n",
       "      <th>University of California, Davis</th>\n",
       "      <td>21</td>\n",
       "    </tr>\n",
       "    <tr>\n",
       "      <th>University of Virginia</th>\n",
       "      <td>19</td>\n",
       "    </tr>\n",
       "    <tr>\n",
       "      <th>University of Colorado Boulder</th>\n",
       "      <td>19</td>\n",
       "    </tr>\n",
       "    <tr>\n",
       "      <th>Yale University</th>\n",
       "      <td>17</td>\n",
       "    </tr>\n",
       "    <tr>\n",
       "      <th>Stanford University</th>\n",
       "      <td>16</td>\n",
       "    </tr>\n",
       "    <tr>\n",
       "      <th>deeplearning.ai</th>\n",
       "      <td>16</td>\n",
       "    </tr>\n",
       "    <tr>\n",
       "      <th>Berklee College of Music</th>\n",
       "      <td>14</td>\n",
       "    </tr>\n",
       "    <tr>\n",
       "      <th>Universidad Nacional Autónoma de México</th>\n",
       "      <td>14</td>\n",
       "    </tr>\n",
       "    <tr>\n",
       "      <th>Rice University</th>\n",
       "      <td>13</td>\n",
       "    </tr>\n",
       "    <tr>\n",
       "      <th>University of Colorado System</th>\n",
       "      <td>13</td>\n",
       "    </tr>\n",
       "    <tr>\n",
       "      <th>University of Alberta</th>\n",
       "      <td>11</td>\n",
       "    </tr>\n",
       "    <tr>\n",
       "      <th>University of Minnesota</th>\n",
       "      <td>11</td>\n",
       "    </tr>\n",
       "    <tr>\n",
       "      <th>University of Toronto</th>\n",
       "      <td>11</td>\n",
       "    </tr>\n",
       "  </tbody>\n",
       "</table>\n",
       "</div>"
      ],
      "text/plain": [
       "                                            course_organization\n",
       "University of Pennsylvania                                   59\n",
       "University of Michigan                                       41\n",
       "Google Cloud                                                 34\n",
       "Duke University                                              28\n",
       "Johns Hopkins University                                     28\n",
       "University of California, Irvine                             27\n",
       "University of Illinois at Urbana-Champaign                   22\n",
       "IBM                                                          22\n",
       "University of California, Davis                              21\n",
       "University of Virginia                                       19\n",
       "University of Colorado Boulder                               19\n",
       "Yale University                                              17\n",
       "Stanford University                                          16\n",
       "deeplearning.ai                                              16\n",
       "Berklee College of Music                                     14\n",
       "Universidad Nacional Autónoma de México                      14\n",
       "Rice University                                              13\n",
       "University of Colorado System                                13\n",
       "University of Alberta                                        11\n",
       "University of Minnesota                                      11\n",
       "University of Toronto                                        11"
      ]
     },
     "execution_count": 11,
     "metadata": {},
     "output_type": "execute_result"
    }
   ],
   "source": [
    "a=a.to_frame()\n",
    "a"
   ]
  },
  {
   "cell_type": "code",
   "execution_count": 12,
   "metadata": {},
   "outputs": [
    {
     "name": "stdout",
     "output_type": "stream",
     "text": [
      "['University of Pennsylvania', 'University of Michigan', 'Google Cloud', 'Duke University', 'Johns Hopkins University', 'University of California, Irvine', 'University of Illinois at Urbana-Champaign', 'IBM', 'University of California, Davis', 'University of Virginia', 'University of Colorado Boulder', 'Yale University', 'Stanford University', 'deeplearning.ai', 'Berklee College of Music', 'Universidad Nacional Autónoma de México', 'Rice University', 'University of Colorado System', 'University of Alberta', 'University of Minnesota', 'University of Toronto']\n"
     ]
    },
    {
     "data": {
      "text/html": [
       "<div>\n",
       "<style scoped>\n",
       "    .dataframe tbody tr th:only-of-type {\n",
       "        vertical-align: middle;\n",
       "    }\n",
       "\n",
       "    .dataframe tbody tr th {\n",
       "        vertical-align: top;\n",
       "    }\n",
       "\n",
       "    .dataframe thead th {\n",
       "        text-align: right;\n",
       "    }\n",
       "</style>\n",
       "<table border=\"1\" class=\"dataframe\">\n",
       "  <thead>\n",
       "    <tr style=\"text-align: right;\">\n",
       "      <th></th>\n",
       "      <th>course_organization</th>\n",
       "      <th>avg_rating</th>\n",
       "    </tr>\n",
       "  </thead>\n",
       "  <tbody>\n",
       "    <tr>\n",
       "      <th>University of Pennsylvania</th>\n",
       "      <td>59</td>\n",
       "      <td>4.696610</td>\n",
       "    </tr>\n",
       "    <tr>\n",
       "      <th>University of Michigan</th>\n",
       "      <td>41</td>\n",
       "      <td>4.729268</td>\n",
       "    </tr>\n",
       "    <tr>\n",
       "      <th>Google Cloud</th>\n",
       "      <td>34</td>\n",
       "      <td>4.582353</td>\n",
       "    </tr>\n",
       "    <tr>\n",
       "      <th>Duke University</th>\n",
       "      <td>28</td>\n",
       "      <td>4.664286</td>\n",
       "    </tr>\n",
       "    <tr>\n",
       "      <th>Johns Hopkins University</th>\n",
       "      <td>28</td>\n",
       "      <td>4.660714</td>\n",
       "    </tr>\n",
       "    <tr>\n",
       "      <th>University of California, Irvine</th>\n",
       "      <td>27</td>\n",
       "      <td>4.596296</td>\n",
       "    </tr>\n",
       "    <tr>\n",
       "      <th>University of Illinois at Urbana-Champaign</th>\n",
       "      <td>22</td>\n",
       "      <td>4.654545</td>\n",
       "    </tr>\n",
       "    <tr>\n",
       "      <th>IBM</th>\n",
       "      <td>22</td>\n",
       "      <td>4.613636</td>\n",
       "    </tr>\n",
       "    <tr>\n",
       "      <th>University of California, Davis</th>\n",
       "      <td>21</td>\n",
       "      <td>4.619048</td>\n",
       "    </tr>\n",
       "    <tr>\n",
       "      <th>University of Virginia</th>\n",
       "      <td>19</td>\n",
       "      <td>4.715789</td>\n",
       "    </tr>\n",
       "    <tr>\n",
       "      <th>University of Colorado Boulder</th>\n",
       "      <td>19</td>\n",
       "      <td>4.668421</td>\n",
       "    </tr>\n",
       "    <tr>\n",
       "      <th>Yale University</th>\n",
       "      <td>17</td>\n",
       "      <td>4.817647</td>\n",
       "    </tr>\n",
       "    <tr>\n",
       "      <th>Stanford University</th>\n",
       "      <td>16</td>\n",
       "      <td>4.768750</td>\n",
       "    </tr>\n",
       "    <tr>\n",
       "      <th>deeplearning.ai</th>\n",
       "      <td>16</td>\n",
       "      <td>4.743750</td>\n",
       "    </tr>\n",
       "    <tr>\n",
       "      <th>Berklee College of Music</th>\n",
       "      <td>14</td>\n",
       "      <td>4.807143</td>\n",
       "    </tr>\n",
       "    <tr>\n",
       "      <th>Universidad Nacional Autónoma de México</th>\n",
       "      <td>14</td>\n",
       "      <td>4.750000</td>\n",
       "    </tr>\n",
       "    <tr>\n",
       "      <th>Rice University</th>\n",
       "      <td>13</td>\n",
       "      <td>4.676923</td>\n",
       "    </tr>\n",
       "    <tr>\n",
       "      <th>University of Colorado System</th>\n",
       "      <td>13</td>\n",
       "      <td>4.715385</td>\n",
       "    </tr>\n",
       "    <tr>\n",
       "      <th>University of Alberta</th>\n",
       "      <td>11</td>\n",
       "      <td>4.727273</td>\n",
       "    </tr>\n",
       "    <tr>\n",
       "      <th>University of Minnesota</th>\n",
       "      <td>11</td>\n",
       "      <td>4.609091</td>\n",
       "    </tr>\n",
       "    <tr>\n",
       "      <th>University of Toronto</th>\n",
       "      <td>11</td>\n",
       "      <td>4.627273</td>\n",
       "    </tr>\n",
       "  </tbody>\n",
       "</table>\n",
       "</div>"
      ],
      "text/plain": [
       "                                            course_organization  avg_rating\n",
       "University of Pennsylvania                                   59    4.696610\n",
       "University of Michigan                                       41    4.729268\n",
       "Google Cloud                                                 34    4.582353\n",
       "Duke University                                              28    4.664286\n",
       "Johns Hopkins University                                     28    4.660714\n",
       "University of California, Irvine                             27    4.596296\n",
       "University of Illinois at Urbana-Champaign                   22    4.654545\n",
       "IBM                                                          22    4.613636\n",
       "University of California, Davis                              21    4.619048\n",
       "University of Virginia                                       19    4.715789\n",
       "University of Colorado Boulder                               19    4.668421\n",
       "Yale University                                              17    4.817647\n",
       "Stanford University                                          16    4.768750\n",
       "deeplearning.ai                                              16    4.743750\n",
       "Berklee College of Music                                     14    4.807143\n",
       "Universidad Nacional Autónoma de México                      14    4.750000\n",
       "Rice University                                              13    4.676923\n",
       "University of Colorado System                                13    4.715385\n",
       "University of Alberta                                        11    4.727273\n",
       "University of Minnesota                                      11    4.609091\n",
       "University of Toronto                                        11    4.627273"
      ]
     },
     "execution_count": 12,
     "metadata": {},
     "output_type": "execute_result"
    }
   ],
   "source": [
    "orgs = a.index.to_list()\n",
    "print(orgs)\n",
    "avg_rating = []\n",
    "for i in orgs:\n",
    "    for key, value in avg_course_rating.items():\n",
    "        if key == i:\n",
    "            avg_rating.append(value)\n",
    "        else:\n",
    "            continue\n",
    "a['avg_rating']=avg_rating\n",
    "a"
   ]
  },
  {
   "cell_type": "code",
   "execution_count": 13,
   "metadata": {},
   "outputs": [],
   "source": [
    "a.rename(columns={\"course_organization\": \"no of courses offered\"},inplace=True)\n",
    "a.index.names=['course_organization']"
   ]
  },
  {
   "cell_type": "code",
   "execution_count": 14,
   "metadata": {},
   "outputs": [
    {
     "data": {
      "text/html": [
       "<div>\n",
       "<style scoped>\n",
       "    .dataframe tbody tr th:only-of-type {\n",
       "        vertical-align: middle;\n",
       "    }\n",
       "\n",
       "    .dataframe tbody tr th {\n",
       "        vertical-align: top;\n",
       "    }\n",
       "\n",
       "    .dataframe thead th {\n",
       "        text-align: right;\n",
       "    }\n",
       "</style>\n",
       "<table border=\"1\" class=\"dataframe\">\n",
       "  <thead>\n",
       "    <tr style=\"text-align: right;\">\n",
       "      <th></th>\n",
       "      <th>no of courses offered</th>\n",
       "      <th>avg_rating</th>\n",
       "    </tr>\n",
       "    <tr>\n",
       "      <th>course_organization</th>\n",
       "      <th></th>\n",
       "      <th></th>\n",
       "    </tr>\n",
       "  </thead>\n",
       "  <tbody>\n",
       "    <tr>\n",
       "      <th>University of Pennsylvania</th>\n",
       "      <td>59</td>\n",
       "      <td>4.696610</td>\n",
       "    </tr>\n",
       "    <tr>\n",
       "      <th>University of Michigan</th>\n",
       "      <td>41</td>\n",
       "      <td>4.729268</td>\n",
       "    </tr>\n",
       "    <tr>\n",
       "      <th>Google Cloud</th>\n",
       "      <td>34</td>\n",
       "      <td>4.582353</td>\n",
       "    </tr>\n",
       "    <tr>\n",
       "      <th>Duke University</th>\n",
       "      <td>28</td>\n",
       "      <td>4.664286</td>\n",
       "    </tr>\n",
       "    <tr>\n",
       "      <th>Johns Hopkins University</th>\n",
       "      <td>28</td>\n",
       "      <td>4.660714</td>\n",
       "    </tr>\n",
       "    <tr>\n",
       "      <th>University of California, Irvine</th>\n",
       "      <td>27</td>\n",
       "      <td>4.596296</td>\n",
       "    </tr>\n",
       "    <tr>\n",
       "      <th>University of Illinois at Urbana-Champaign</th>\n",
       "      <td>22</td>\n",
       "      <td>4.654545</td>\n",
       "    </tr>\n",
       "    <tr>\n",
       "      <th>IBM</th>\n",
       "      <td>22</td>\n",
       "      <td>4.613636</td>\n",
       "    </tr>\n",
       "    <tr>\n",
       "      <th>University of California, Davis</th>\n",
       "      <td>21</td>\n",
       "      <td>4.619048</td>\n",
       "    </tr>\n",
       "    <tr>\n",
       "      <th>University of Virginia</th>\n",
       "      <td>19</td>\n",
       "      <td>4.715789</td>\n",
       "    </tr>\n",
       "    <tr>\n",
       "      <th>University of Colorado Boulder</th>\n",
       "      <td>19</td>\n",
       "      <td>4.668421</td>\n",
       "    </tr>\n",
       "    <tr>\n",
       "      <th>Yale University</th>\n",
       "      <td>17</td>\n",
       "      <td>4.817647</td>\n",
       "    </tr>\n",
       "    <tr>\n",
       "      <th>Stanford University</th>\n",
       "      <td>16</td>\n",
       "      <td>4.768750</td>\n",
       "    </tr>\n",
       "    <tr>\n",
       "      <th>deeplearning.ai</th>\n",
       "      <td>16</td>\n",
       "      <td>4.743750</td>\n",
       "    </tr>\n",
       "    <tr>\n",
       "      <th>Berklee College of Music</th>\n",
       "      <td>14</td>\n",
       "      <td>4.807143</td>\n",
       "    </tr>\n",
       "    <tr>\n",
       "      <th>Universidad Nacional Autónoma de México</th>\n",
       "      <td>14</td>\n",
       "      <td>4.750000</td>\n",
       "    </tr>\n",
       "    <tr>\n",
       "      <th>Rice University</th>\n",
       "      <td>13</td>\n",
       "      <td>4.676923</td>\n",
       "    </tr>\n",
       "    <tr>\n",
       "      <th>University of Colorado System</th>\n",
       "      <td>13</td>\n",
       "      <td>4.715385</td>\n",
       "    </tr>\n",
       "    <tr>\n",
       "      <th>University of Alberta</th>\n",
       "      <td>11</td>\n",
       "      <td>4.727273</td>\n",
       "    </tr>\n",
       "    <tr>\n",
       "      <th>University of Minnesota</th>\n",
       "      <td>11</td>\n",
       "      <td>4.609091</td>\n",
       "    </tr>\n",
       "    <tr>\n",
       "      <th>University of Toronto</th>\n",
       "      <td>11</td>\n",
       "      <td>4.627273</td>\n",
       "    </tr>\n",
       "  </tbody>\n",
       "</table>\n",
       "</div>"
      ],
      "text/plain": [
       "                                            no of courses offered  avg_rating\n",
       "course_organization                                                          \n",
       "University of Pennsylvania                                     59    4.696610\n",
       "University of Michigan                                         41    4.729268\n",
       "Google Cloud                                                   34    4.582353\n",
       "Duke University                                                28    4.664286\n",
       "Johns Hopkins University                                       28    4.660714\n",
       "University of California, Irvine                               27    4.596296\n",
       "University of Illinois at Urbana-Champaign                     22    4.654545\n",
       "IBM                                                            22    4.613636\n",
       "University of California, Davis                                21    4.619048\n",
       "University of Virginia                                         19    4.715789\n",
       "University of Colorado Boulder                                 19    4.668421\n",
       "Yale University                                                17    4.817647\n",
       "Stanford University                                            16    4.768750\n",
       "deeplearning.ai                                                16    4.743750\n",
       "Berklee College of Music                                       14    4.807143\n",
       "Universidad Nacional Autónoma de México                        14    4.750000\n",
       "Rice University                                                13    4.676923\n",
       "University of Colorado System                                  13    4.715385\n",
       "University of Alberta                                          11    4.727273\n",
       "University of Minnesota                                        11    4.609091\n",
       "University of Toronto                                          11    4.627273"
      ]
     },
     "execution_count": 14,
     "metadata": {},
     "output_type": "execute_result"
    }
   ],
   "source": [
    "a"
   ]
  },
  {
   "cell_type": "code",
   "execution_count": 15,
   "metadata": {},
   "outputs": [
    {
     "data": {
      "image/png": "[encoded data removed]",
      "text/plain": [
       "<Figure size 432x288 with 1 Axes>"
      ]
     },
     "metadata": {
      "needs_background": "light"
     },
     "output_type": "display_data"
    }
   ],
   "source": [
    "a.plot(kind='barh',y='avg_rating')\n",
    "plt.title('Average course rating of organizations with more than 10 courses')\n",
    "plt.xlabel('Average course rating')\n",
    "plt.show()"
   ]
  },
  {
   "cell_type": "markdown",
   "metadata": {},
   "source": [
    "### 3. Which organization has the highest course rating?\n",
    "What do you think? Will the organization with highest course rating have more than 10 courses?"
   ]
  },
  {
   "cell_type": "code",
   "execution_count": 16,
   "metadata": {},
   "outputs": [],
   "source": [
    "avg_course_rating\n",
    "sort_avg_course_rating = {k: v for k, v in sorted(avg_course_rating.items(), key=lambda item: item[1], reverse=True)}\n",
    "#sort_avg_course_rating = sorted(avg_course_rating.items(), key=lambda x: x[1], reverse=True)"
   ]
  },
  {
   "cell_type": "code",
   "execution_count": 17,
   "metadata": {},
   "outputs": [
    {
     "data": {
      "text/plain": [
       "{'Crece con Google': 4.9,\n",
       " 'Google - Spectrum Sharing': 4.9,\n",
       " 'Hebrew University of Jerusalem': 4.9,\n",
       " 'London Business School': 4.9,\n",
       " 'Nanyang Technological University, Singapore': 4.9,\n",
       " 'ScrumTrek': 4.9,\n",
       " 'Universidade Estadual de Campinas': 4.9,\n",
       " 'Universidade de São Paulo': 4.866666666666667,\n",
       " 'The University of Chicago': 4.85,\n",
       " 'Universidad de los Andes': 4.82,\n",
       " 'Yale University': 4.817647058823529,\n",
       " 'Berklee College of Music': 4.807142857142856,\n",
       " 'BCG': 4.8,\n",
       " 'Cloudera': 4.8,\n",
       " 'ESADE Business and Law School': 4.8,\n",
       " 'Eindhoven University of Technology': 4.8,\n",
       " 'Institute for the Future': 4.8,\n",
       " 'Kalshoven-Gieskes Forum': 4.8,\n",
       " 'Macquarie University': 4.8,\n",
       " 'McMaster University': 4.8,\n",
       " 'Osmosis': 4.8,\n",
       " 'Peking University': 4.8,\n",
       " 'Relay Graduate School of Education': 4.8,\n",
       " 'Shanghai Jiao Tong University': 4.8,\n",
       " 'Tel Aviv University': 4.8,\n",
       " 'The George Washington University': 4.8,\n",
       " 'The Pennsylvania State University': 4.8,\n",
       " 'The University of Hong Kong': 4.8,\n",
       " 'The University of Tokyo': 4.8,\n",
       " 'UCL School of Management': 4.8,\n",
       " 'University of Florida': 4.8,\n",
       " 'University of Lausanne': 4.8,\n",
       " 'VMware': 4.8,\n",
       " 'École Polytechnique': 4.8,\n",
       " 'The Museum of Modern Art': 4.783333333333332,\n",
       " 'Arizona State University': 4.771428571428571,\n",
       " 'Stanford University': 4.768750000000001,\n",
       " 'SAS': 4.766666666666667,\n",
       " 'The University of Melbourne': 4.766666666666667,\n",
       " 'Universidad de Chile': 4.766666666666667,\n",
       " 'Universiteit Leiden': 4.766666666666667,\n",
       " 'Columbia University': 4.757142857142857,\n",
       " 'Università Bocconi': 4.757142857142857,\n",
       " 'American Museum of Natural History': 4.75,\n",
       " 'Atlassian': 4.75,\n",
       " 'Autodesk': 4.75,\n",
       " 'Ludwig-Maximilians-Universität München (LMU)': 4.75,\n",
       " 'The University of Sydney': 4.75,\n",
       " 'UCL Institute of Education': 4.75,\n",
       " 'Universidad Nacional Autónoma de México': 4.75,\n",
       " 'Yonsei University': 4.75,\n",
       " 'deeplearning.ai': 4.74375,\n",
       " 'IESE Business School': 4.74,\n",
       " 'Google': 4.733333333333334,\n",
       " '(ISC)²': 4.733333333333333,\n",
       " 'Case Western Reserve University': 4.733333333333333,\n",
       " 'E-Learning Development Fund': 4.733333333333333,\n",
       " 'UNSW Sydney (The University of New South Wales)': 4.733333333333333,\n",
       " 'University of Amsterdam': 4.733333333333333,\n",
       " 'University of Geneva': 4.733333333333333,\n",
       " 'University of Pittsburgh': 4.733333333333333,\n",
       " 'University of Michigan': 4.729268292682928,\n",
       " 'Pontificia Universidad Católica de Chile': 4.728571428571429,\n",
       " 'University of Alberta': 4.7272727272727275,\n",
       " 'University of California, Santa Cruz': 4.725,\n",
       " 'École Polytechnique Fédérale de Lausanne': 4.725,\n",
       " 'California Institute of the Arts': 4.716666666666667,\n",
       " 'University of Virginia': 4.715789473684211,\n",
       " 'University of Colorado System': 4.715384615384615,\n",
       " 'Universitat Autònoma de Barcelona': 4.7124999999999995,\n",
       " 'Bloomsbury Learning Exchange': 4.7,\n",
       " 'Cisco': 4.7,\n",
       " 'ConsenSys Academy': 4.7,\n",
       " 'HubSpot Academy': 4.7,\n",
       " 'IE School of Architecture & Design': 4.7,\n",
       " 'JetBrains': 4.7,\n",
       " 'MathWorks': 4.7,\n",
       " 'Ticket for Change': 4.7,\n",
       " 'University of Cape Town': 4.7,\n",
       " 'École des Ponts ParisTech': 4.7,\n",
       " 'The University of North Carolina at Chapel Hill': 4.699999999999999,\n",
       " 'University of Copenhagen': 4.699999999999999,\n",
       " 'University of Pennsylvania': 4.696610169491525,\n",
       " 'HEC Paris': 4.683333333333334,\n",
       " 'Copenhagen Business School': 4.68,\n",
       " 'Rice University': 4.676923076923078,\n",
       " 'The University of Edinburgh': 4.675000000000001,\n",
       " 'Saint Petersburg State University': 4.671428571428571,\n",
       " 'University of Colorado Boulder': 4.668421052631579,\n",
       " 'INSEAD': 4.666666666666667,\n",
       " 'Vanderbilt University': 4.666666666666667,\n",
       " 'EDHEC Business School': 4.666666666666666,\n",
       " 'PwC': 4.666666666666666,\n",
       " 'Duke University': 4.664285714285714,\n",
       " 'Johns Hopkins University': 4.660714285714286,\n",
       " 'University of Washington': 4.660000000000001,\n",
       " 'Georgia Institute of Technology': 4.66,\n",
       " 'Erasmus University Rotterdam': 4.659999999999999,\n",
       " 'Imperial College London': 4.655555555555555,\n",
       " 'University of Illinois at Urbana-Champaign': 4.654545454545455,\n",
       " 'Moscow Institute of Physics and Technology': 4.65,\n",
       " 'Northwestern University': 4.65,\n",
       " 'University at Buffalo': 4.65,\n",
       " 'Rutgers the State University of New Jersey': 4.6499999999999995,\n",
       " 'Universidad Austral': 4.6499999999999995,\n",
       " 'University of California San Diego': 4.644444444444445,\n",
       " 'The Hong Kong University of Science and Technology': 4.642857142857143,\n",
       " 'University of Toronto': 4.627272727272728,\n",
       " 'Michigan State University': 4.619999999999999,\n",
       " 'University of California, Davis': 4.6190476190476195,\n",
       " 'IBM': 4.613636363636363,\n",
       " 'University of Minnesota': 4.609090909090909,\n",
       " 'Automation Anywhere': 4.6,\n",
       " 'Birkbeck, University of London': 4.6,\n",
       " 'ESCP Business School': 4.6,\n",
       " 'ESSEC Business School': 4.6,\n",
       " 'National Arts Strategies': 4.6,\n",
       " 'National Taiwan University': 4.6,\n",
       " 'Palo Alto Networks': 4.6,\n",
       " 'Royal Holloway, University of London': 4.6,\n",
       " 'Technical University of Denmark (DTU)': 4.6,\n",
       " 'Universitat de Barcelona': 4.6,\n",
       " 'University of New Mexico': 4.6,\n",
       " 'IE Business School': 4.599999999999999,\n",
       " 'University of California, Irvine': 4.596296296296296,\n",
       " 'University of Maryland, College Park': 4.583333333333333,\n",
       " 'Google Cloud': 4.582352941176469,\n",
       " 'SOAS University of London': 4.575,\n",
       " 'University of London': 4.566666666666666,\n",
       " 'West Virginia University': 4.550000000000001,\n",
       " 'Amazon Web Services': 4.55,\n",
       " 'Lund University': 4.55,\n",
       " 'Wesleyan University': 4.54,\n",
       " 'University System of Georgia': 4.533333333333334,\n",
       " 'LearnQuest': 4.533333333333333,\n",
       " 'Tecnológico de Monterrey': 4.533333333333333,\n",
       " 'Sciences Po': 4.533333333333332,\n",
       " 'National Research University Higher School of Economics': 4.5285714285714285,\n",
       " 'Indian School of Business': 4.525,\n",
       " 'Fundação Instituto de Administração': 4.5,\n",
       " 'Mail.Ru Group': 4.5,\n",
       " 'Emory University': 4.499999999999999,\n",
       " 'New York University': 4.499999999999999,\n",
       " 'Goldsmiths, University of London': 4.45,\n",
       " 'American Institute of Business and Economics': 4.4,\n",
       " 'Icahn School of Medicine at Mount Sinai': 4.4,\n",
       " 'Luther College at the University of Regina': 4.4,\n",
       " 'Novosibirsk State University ': 4.4,\n",
       " 'Peter the Great St. Petersburg Polytechnic University': 4.4,\n",
       " 'The Linux Foundation': 4.4,\n",
       " 'Unity': 4.35,\n",
       " 'New York Institute of Finance': 4.3,\n",
       " 'Tsinghua University': 4.3,\n",
       " 'The State University of New York': 4.275}"
      ]
     },
     "execution_count": 17,
     "metadata": {},
     "output_type": "execute_result"
    }
   ],
   "source": [
    "sort_avg_course_rating"
   ]
  },
  {
   "cell_type": "code",
   "execution_count": 18,
   "metadata": {},
   "outputs": [
    {
     "name": "stdout",
     "output_type": "stream",
     "text": [
      "Crece con Google\n",
      "Google - Spectrum Sharing\n",
      "Hebrew University of Jerusalem\n",
      "London Business School\n",
      "Nanyang Technological University, Singapore\n",
      "ScrumTrek\n",
      "Universidade Estadual de Campinas\n"
     ]
    }
   ],
   "source": [
    "for key, value in sort_avg_course_rating.items():\n",
    "    if value == 4.9:\n",
    "        print(key)"
   ]
  },
  {
   "cell_type": "markdown",
   "metadata": {},
   "source": [
    "### 4. Top 5 courses on Coursera\n",
    "Let's look at the top 5 courses on Coursera by course rating"
   ]
  },
  {
   "cell_type": "code",
   "execution_count": 19,
   "metadata": {},
   "outputs": [],
   "source": [
    "sorted_course_rating = data.sort_values(by='course_rating', ascending=False)"
   ]
  },
  {
   "cell_type": "code",
   "execution_count": 20,
   "metadata": {},
   "outputs": [
    {
     "data": {
      "text/html": [
       "<div>\n",
       "<style scoped>\n",
       "    .dataframe tbody tr th:only-of-type {\n",
       "        vertical-align: middle;\n",
       "    }\n",
       "\n",
       "    .dataframe tbody tr th {\n",
       "        vertical-align: top;\n",
       "    }\n",
       "\n",
       "    .dataframe thead th {\n",
       "        text-align: right;\n",
       "    }\n",
       "</style>\n",
       "<table border=\"1\" class=\"dataframe\">\n",
       "  <thead>\n",
       "    <tr style=\"text-align: right;\">\n",
       "      <th></th>\n",
       "      <th>course_title</th>\n",
       "      <th>course_rating</th>\n",
       "    </tr>\n",
       "  </thead>\n",
       "  <tbody>\n",
       "    <tr>\n",
       "      <th>251</th>\n",
       "      <td>El Abogado del Futuro: Legaltech y la Transfor...</td>\n",
       "      <td>5.0</td>\n",
       "    </tr>\n",
       "    <tr>\n",
       "      <th>432</th>\n",
       "      <td>Infectious Disease Modelling</td>\n",
       "      <td>5.0</td>\n",
       "    </tr>\n",
       "    <tr>\n",
       "      <th>754</th>\n",
       "      <td>Stories of Infection</td>\n",
       "      <td>4.9</td>\n",
       "    </tr>\n",
       "    <tr>\n",
       "      <th>290</th>\n",
       "      <td>Everyday Parenting: The ABCs of Child Rearing</td>\n",
       "      <td>4.9</td>\n",
       "    </tr>\n",
       "    <tr>\n",
       "      <th>98</th>\n",
       "      <td>Boosting Creativity for Innovation</td>\n",
       "      <td>4.9</td>\n",
       "    </tr>\n",
       "  </tbody>\n",
       "</table>\n",
       "</div>"
      ],
      "text/plain": [
       "                                          course_title  course_rating\n",
       "251  El Abogado del Futuro: Legaltech y la Transfor...            5.0\n",
       "432                       Infectious Disease Modelling            5.0\n",
       "754                               Stories of Infection            4.9\n",
       "290      Everyday Parenting: The ABCs of Child Rearing            4.9\n",
       "98                  Boosting Creativity for Innovation            4.9"
      ]
     },
     "execution_count": 20,
     "metadata": {},
     "output_type": "execute_result"
    }
   ],
   "source": [
    "sorted_course_rating[[\"course_title\",\"course_rating\"]][:5]"
   ]
  },
  {
   "cell_type": "markdown",
   "metadata": {},
   "source": [
    "### 5. Does course difficulty affect number of students enrolled?\n",
    "For this we will check the average number of students enrolled grouping by difficulty."
   ]
  },
  {
   "cell_type": "code",
   "execution_count": 21,
   "metadata": {},
   "outputs": [
    {
     "data": {
      "image/png": "[encoded data removed]",
      "text/plain": [
       "<Figure size 432x288 with 1 Axes>"
      ]
     },
     "metadata": {
      "needs_background": "light"
     },
     "output_type": "display_data"
    }
   ],
   "source": [
    "no_of_students_course_difficulty = (data.groupby(\"course_difficulty\")[[\"course_students_enrolled\"]].sum()).sort_values(by=\"course_students_enrolled\", ascending=False)\n",
    "no_of_students_course_difficulty.plot.bar()\n",
    "plt.show()"
   ]
  },
  {
   "cell_type": "markdown",
   "metadata": {},
   "source": [
    "### 6. Does course difficulty affect rating?\n",
    "Do courses with advanced level of difficulty get lower rating? Is there any relation between the two?"
   ]
  },
  {
   "cell_type": "code",
   "execution_count": 22,
   "metadata": {},
   "outputs": [
    {
     "data": {
      "image/png": "[encoded data removed]",
      "text/plain": [
       "<Figure size 432x288 with 1 Axes>"
      ]
     },
     "metadata": {
      "needs_background": "light"
     },
     "output_type": "display_data"
    }
   ],
   "source": [
    "rating_course_difficulty = (data.groupby(\"course_difficulty\")[[\"course_rating\"]].mean()).sort_values(by=\"course_rating\", ascending=False)\n",
    "rating_course_difficulty.plot.bar()\n",
    "plt.show()"
   ]
  },
  {
   "cell_type": "markdown",
   "metadata": {},
   "source": [
    "### 7. Does certificate type impact number of students enrolled?\n",
    "This could be a very important question for Coursera and for the organizations who are making courses. What type of certificate should be there for maximum student enrollment and how should Coursera optimize the course recommendations based on the type of certificates?"
   ]
  },
  {
   "cell_type": "code",
   "execution_count": 23,
   "metadata": {},
   "outputs": [
    {
     "data": {
      "image/png": "[encoded data removed]",
      "text/plain": [
       "<Figure size 432x288 with 1 Axes>"
      ]
     },
     "metadata": {
      "needs_background": "light"
     },
     "output_type": "display_data"
    }
   ],
   "source": [
    "ctft_students = (data.groupby(\"course_Certificate_type\")[[\"course_students_enrolled\"]].mean()).sort_values(by=\"course_students_enrolled\", ascending=False)\n",
    "ctft_students.plot.bar()\n",
    "plt.show()"
   ]
  },
  {
   "cell_type": "markdown",
   "metadata": {},
   "source": [
    "### 8. Does certificate type impact course rating?\n",
    "Do professional certificates have a higher rating because they are accepted everywhere or is there still no impact?"
   ]
  },
  {
   "cell_type": "code",
   "execution_count": 24,
   "metadata": {},
   "outputs": [
    {
     "data": {
      "image/png": "[encoded data removed]",
      "text/plain": [
       "<Figure size 432x288 with 1 Axes>"
      ]
     },
     "metadata": {
      "needs_background": "light"
     },
     "output_type": "display_data"
    }
   ],
   "source": [
    "ctft_rating = (data.groupby(\"course_Certificate_type\")[[\"course_rating\"]].mean()).sort_values(by=\"course_rating\", ascending=False)\n",
    "ctft_rating.plot.bar()\n",
    "plt.show()"
   ]
  },
  {
   "cell_type": "markdown",
   "metadata": {},
   "source": [
    "### 9. Number of students enrolled vs. course rating\n",
    "If there a large number of students enrolled in your course, does that impact the course rating?"
   ]
  },
  {
   "cell_type": "code",
   "execution_count": 25,
   "metadata": {},
   "outputs": [
    {
     "data": {
      "text/plain": [
       "<matplotlib.axes._subplots.AxesSubplot at 0x1e93f078948>"
      ]
     },
     "execution_count": 25,
     "metadata": {},
     "output_type": "execute_result"
    },
    {
     "data": {
      "image/png": "[encoded data removed]",
      "text/plain": [
       "<Figure size 432x288 with 1 Axes>"
      ]
     },
     "metadata": {
      "needs_background": "light"
     },
     "output_type": "display_data"
    }
   ],
   "source": [
    "data.plot(kind='scatter', x='course_students_enrolled', y='course_rating', title='Number of students enrolled vs. course rating')"
   ]
  },
  {
   "cell_type": "code",
   "execution_count": 26,
   "metadata": {},
   "outputs": [
    {
     "data": {
      "text/plain": [
       "<matplotlib.axes._subplots.AxesSubplot at 0x1e93f023fc8>"
      ]
     },
     "execution_count": 26,
     "metadata": {},
     "output_type": "execute_result"
    },
    {
     "data": {
      "image/png": "[encoded data removed]",
      "text/plain": [
       "<Figure size 432x288 with 1 Axes>"
      ]
     },
     "metadata": {
      "needs_background": "light"
     },
     "output_type": "display_data"
    }
   ],
   "source": [
    "sns.scatterplot(x=\"course_students_enrolled\", y=\"course_rating\", data=data)"
   ]
  },
  {
   "cell_type": "code",
   "execution_count": 27,
   "metadata": {},
   "outputs": [
    {
     "data": {
      "text/html": [
       "<div>\n",
       "<style scoped>\n",
       "    .dataframe tbody tr th:only-of-type {\n",
       "        vertical-align: middle;\n",
       "    }\n",
       "\n",
       "    .dataframe tbody tr th {\n",
       "        vertical-align: top;\n",
       "    }\n",
       "\n",
       "    .dataframe thead th {\n",
       "        text-align: right;\n",
       "    }\n",
       "</style>\n",
       "<table border=\"1\" class=\"dataframe\">\n",
       "  <thead>\n",
       "    <tr style=\"text-align: right;\">\n",
       "      <th></th>\n",
       "      <th>course_rating</th>\n",
       "      <th>course_students_enrolled</th>\n",
       "    </tr>\n",
       "  </thead>\n",
       "  <tbody>\n",
       "    <tr>\n",
       "      <th>course_rating</th>\n",
       "      <td>1.00000</td>\n",
       "      <td>0.07109</td>\n",
       "    </tr>\n",
       "    <tr>\n",
       "      <th>course_students_enrolled</th>\n",
       "      <td>0.07109</td>\n",
       "      <td>1.00000</td>\n",
       "    </tr>\n",
       "  </tbody>\n",
       "</table>\n",
       "</div>"
      ],
      "text/plain": [
       "                          course_rating  course_students_enrolled\n",
       "course_rating                   1.00000                   0.07109\n",
       "course_students_enrolled        0.07109                   1.00000"
      ]
     },
     "execution_count": 27,
     "metadata": {},
     "output_type": "execute_result"
    }
   ],
   "source": [
    "data.corr()"
   ]
  },
  {
   "cell_type": "markdown",
   "metadata": {},
   "source": [
    "### Conclusion\n",
    "- University of Pennsylvania has most number of courses on Coursera followed by University of Michigan.\n",
    "- Organizations with more than 10 courses on Coursera are not present in the top 5 organizations list with highest rating.\n",
    "- Course difficulty does affect the number of students enrolled. There are more students enrolled in Beginner and Mixed level of difficulty courses than Intermediate and Advanced.\n",
    "- Course difficulty does not affect course rating.\n",
    "- Course certificate type does impact the number of students enrolled in that course. More number of students tend to enroll for Professional Certificate courses than just \"COURSE\" certificate.\n",
    "- Certificate type does not impact course rating.\n",
    "- There is no strong relation to prove that if more number of students are enrolled in a course, the course rating is a higher."
   ]
  }
 ],
 "metadata": {
  "kernelspec": {
   "display_name": "Python 3",
   "language": "python",
   "name": "python3"
  },
  "language_info": {
   "codemirror_mode": {
    "name": "ipython",
    "version": 3
   },
   "file_extension": ".py",
   "mimetype": "text/x-python",
   "name": "python",
   "nbconvert_exporter": "python",
   "pygments_lexer": "ipython3",
   "version": "3.7.6"
  }
 },
 "nbformat": 4,
 "nbformat_minor": 4
}
